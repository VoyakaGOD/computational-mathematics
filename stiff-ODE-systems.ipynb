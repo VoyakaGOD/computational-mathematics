{
 "cells": [
  {
   "cell_type": "code",
   "execution_count": 3,
   "metadata": {},
   "outputs": [],
   "source": [
    "from matplotlib.ticker import ScalarFormatter\n",
    "import matplotlib.gridspec as gridspec\n",
    "import matplotlib.pyplot as plt\n",
    "from ODElib import *\n",
    "\n",
    "def f(t : float, u : Vector):\n",
    "    return Vector(u[1], u[0]**2 - 1)\n",
    "\n",
    "# first integral\n",
    "def C(u : Vector):\n",
    "    return (u[0]**3)/3 - u[0] - (u[1]**2)/2\n",
    "\n",
    "def show_result(ts : list[float], us : list[Vector], C : Callable[[Vector], float]):\n",
    "    fig = plt.figure(figsize=[10, 6])\n",
    "    gs = gridspec.GridSpec(2, 2, height_ratios=[2, 1])\n",
    "    fig.add_subplot(gs[0, 1])\n",
    "    plt.plot(ts, [u[0] for u in us], label=\"x(t)\")\n",
    "    plt.plot(ts, [u[1] for u in us], label=\"y(t)\")\n",
    "    plt.legend()\n",
    "    plt.xlabel(\"t\")\n",
    "    ax_3d = fig.add_subplot(gs[0, 0], projection=\"3d\")\n",
    "    plt.plot(ts, [u[0] for u in us], [u[1] for u in us])\n",
    "    plt.xlabel(\"t\")\n",
    "    plt.ylabel(\"x\")\n",
    "    ax_3d.zaxis.set_rotate_label(False) \n",
    "    ax_3d.set_zlabel(\"y\")\n",
    "    ax = fig.add_subplot(gs[1, :])\n",
    "    plt.plot(ts, [C(u) - C(us[0]) for u in us], label=\"$C(x(t), y(t)) - C_{th}$\", color=\"green\")\n",
    "    plt.hlines(0, ts[0], ts[-1], linestyle=\"--\", dashes=(0, (2, 5)), label=\"C[theory]\", colors=\"red\")\n",
    "    plt.legend()\n",
    "    plt.xlabel(\"t\")\n",
    "    plt.ylabel(\"$C - C_{theory}$\")\n",
    "    formatter = ScalarFormatter(useMathText=True, useOffset=False)\n",
    "    ax.yaxis.set_major_formatter(formatter)\n",
    "    plt.tight_layout()\n",
    "    plt.show()"
   ]
  },
  {
   "cell_type": "code",
   "execution_count": null,
   "metadata": {},
   "outputs": [
    {
     "ename": "KeyboardInterrupt",
     "evalue": "",
     "output_type": "error",
     "traceback": [
      "\u001b[1;31m---------------------------------------------------------------------------\u001b[0m",
      "\u001b[1;31mKeyboardInterrupt\u001b[0m                         Traceback (most recent call last)",
      "Cell \u001b[1;32mIn[4], line 23\u001b[0m\n\u001b[0;32m     20\u001b[0m     \u001b[38;5;28;01mreturn\u001b[39;00m Vector(u[\u001b[38;5;241m1\u001b[39m], u[\u001b[38;5;241m0\u001b[39m]\u001b[38;5;241m*\u001b[39m\u001b[38;5;241m*\u001b[39m\u001b[38;5;241m2\u001b[39m \u001b[38;5;241m-\u001b[39m \u001b[38;5;241m1\u001b[39m)\n\u001b[0;32m     22\u001b[0m \u001b[38;5;66;03m#show_result(ts, RosenbrockWannerMethods.implicit_1_order(auto_f, u0, h, N), C)\u001b[39;00m\n\u001b[1;32m---> 23\u001b[0m show_result(ts, \u001b[43mRosenbrockWannerMethods\u001b[49m\u001b[38;5;241;43m.\u001b[39;49m\u001b[43mimplicit_2_order\u001b[49m\u001b[43m(\u001b[49m\u001b[43mauto_f\u001b[49m\u001b[43m,\u001b[49m\u001b[43m \u001b[49m\u001b[43mu0\u001b[49m\u001b[43m,\u001b[49m\u001b[43m \u001b[49m\u001b[43mh\u001b[49m\u001b[43m,\u001b[49m\u001b[43m \u001b[49m\u001b[43mN\u001b[49m\u001b[43m)\u001b[49m, C)\n",
      "File \u001b[1;32md:\\py projects\\computational-mathematics\\ODElib.py:295\u001b[0m, in \u001b[0;36mRosenbrockWannerMethods.implicit_2_order\u001b[1;34m(f, u0, h, N)\u001b[0m\n\u001b[0;32m    293\u001b[0m A \u001b[38;5;241m=\u001b[39m Matrix\u001b[38;5;241m.\u001b[39midentity(dim)\u001b[38;5;241m/\u001b[39mh \u001b[38;5;241m-\u001b[39m g  \u001b[38;5;241m*\u001b[39m J\n\u001b[0;32m    294\u001b[0m \u001b[38;5;28;01mfor\u001b[39;00m n \u001b[38;5;129;01min\u001b[39;00m \u001b[38;5;28mrange\u001b[39m(N):\n\u001b[1;32m--> 295\u001b[0m     k1 \u001b[38;5;241m=\u001b[39m \u001b[43mLinearSolver\u001b[49m\u001b[38;5;241;43m.\u001b[39;49m\u001b[43msolve_system\u001b[49m\u001b[43m(\u001b[49m\u001b[43mA\u001b[49m\u001b[43m,\u001b[49m\u001b[43m \u001b[49m\u001b[43mf\u001b[49m\u001b[43m(\u001b[49m\u001b[43mu\u001b[49m\u001b[43m[\u001b[49m\u001b[43mn\u001b[49m\u001b[43m]\u001b[49m\u001b[43m)\u001b[49m\u001b[43m,\u001b[49m\u001b[43m \u001b[49m\u001b[43mVector\u001b[49m\u001b[38;5;241;43m.\u001b[39;49m\u001b[43mzeros\u001b[49m\u001b[43m(\u001b[49m\u001b[43mdim\u001b[49m\u001b[43m)\u001b[49m\u001b[43m)\u001b[49m\n\u001b[0;32m    296\u001b[0m     k2 \u001b[38;5;241m=\u001b[39m LinearSolver\u001b[38;5;241m.\u001b[39msolve_system(A, f(u[n] \u001b[38;5;241m+\u001b[39m k1) \u001b[38;5;241m-\u001b[39m \u001b[38;5;241m2\u001b[39m\u001b[38;5;241m*\u001b[39mJ\u001b[38;5;241m*\u001b[39mk1, Vector\u001b[38;5;241m.\u001b[39mzeros(dim))\n\u001b[0;32m    297\u001b[0m     u \u001b[38;5;241m+\u001b[39m\u001b[38;5;241m=\u001b[39m [u[n] \u001b[38;5;241m+\u001b[39m k1 \u001b[38;5;241m+\u001b[39m k2\u001b[38;5;241m/\u001b[39m\u001b[38;5;241m2\u001b[39m]\n",
      "File \u001b[1;32md:\\py projects\\computational-mathematics\\ODElib.py:19\u001b[0m, in \u001b[0;36mLinearSolver.solve_system\u001b[1;34m(A, f, x0)\u001b[0m\n\u001b[0;32m     17\u001b[0m x \u001b[38;5;241m=\u001b[39m x0\u001b[38;5;241m.\u001b[39mcopy()\n\u001b[0;32m     18\u001b[0m x_dual \u001b[38;5;241m=\u001b[39m Vector\u001b[38;5;241m.\u001b[39mzeros(n)\n\u001b[1;32m---> 19\u001b[0m \u001b[38;5;28;01mwhile\u001b[39;00m LinearSolver\u001b[38;5;241m.\u001b[39mnorm(\u001b[43mA\u001b[49m\u001b[43m \u001b[49m\u001b[38;5;241;43m*\u001b[39;49m\u001b[43m \u001b[49m\u001b[43mx\u001b[49m \u001b[38;5;241m-\u001b[39m f) \u001b[38;5;241m>\u001b[39m LinearSolver\u001b[38;5;241m.\u001b[39meps:\n\u001b[0;32m     20\u001b[0m     \u001b[38;5;28;01mfor\u001b[39;00m i \u001b[38;5;129;01min\u001b[39;00m \u001b[38;5;28mrange\u001b[39m(n):\n\u001b[0;32m     21\u001b[0m         x_dual[i] \u001b[38;5;241m=\u001b[39m \u001b[38;5;241m-\u001b[39m(\u001b[38;5;28msum\u001b[39m([A[i, j] \u001b[38;5;241m*\u001b[39m x_dual[j] \u001b[38;5;28;01mfor\u001b[39;00m j \u001b[38;5;129;01min\u001b[39;00m \u001b[38;5;28mrange\u001b[39m(i) \u001b[38;5;28;01mif\u001b[39;00m i \u001b[38;5;241m!=\u001b[39m j]) \n\u001b[0;32m     22\u001b[0m                     \u001b[38;5;241m+\u001b[39m \u001b[38;5;28msum\u001b[39m([A[i, j] \u001b[38;5;241m*\u001b[39m x[j] \u001b[38;5;28;01mfor\u001b[39;00m j \u001b[38;5;129;01min\u001b[39;00m \u001b[38;5;28mrange\u001b[39m(i\u001b[38;5;241m+\u001b[39m\u001b[38;5;241m1\u001b[39m, n) \u001b[38;5;28;01mif\u001b[39;00m i \u001b[38;5;241m!=\u001b[39m j]) \n\u001b[0;32m     23\u001b[0m                     \u001b[38;5;241m-\u001b[39m f[i]) \u001b[38;5;241m/\u001b[39m A[i, i]\n",
      "File \u001b[1;32md:\\py projects\\computational-mathematics\\matrixlib.py:52\u001b[0m, in \u001b[0;36mMatrix.__mul__\u001b[1;34m(self, other)\u001b[0m\n\u001b[0;32m     50\u001b[0m     \u001b[38;5;28;01mif\u001b[39;00m \u001b[38;5;28mself\u001b[39m\u001b[38;5;241m.\u001b[39mn \u001b[38;5;241m!=\u001b[39m other\u001b[38;5;241m.\u001b[39mm:\n\u001b[0;32m     51\u001b[0m         \u001b[38;5;28;01mraise\u001b[39;00m \u001b[38;5;167;01mValueError\u001b[39;00m(\u001b[38;5;124m\"\u001b[39m\u001b[38;5;124mbad dimensions\u001b[39m\u001b[38;5;124m\"\u001b[39m)\n\u001b[1;32m---> 52\u001b[0m     \u001b[38;5;28;01mreturn\u001b[39;00m Matrix([[\u001b[38;5;28;43msum\u001b[39;49m\u001b[43m(\u001b[49m\u001b[38;5;28;43mself\u001b[39;49m\u001b[38;5;241;43m.\u001b[39;49m\u001b[43mdata\u001b[49m\u001b[43m[\u001b[49m\u001b[43mi\u001b[49m\u001b[43m]\u001b[49m\u001b[43m[\u001b[49m\u001b[43mk\u001b[49m\u001b[43m]\u001b[49m\u001b[43m \u001b[49m\u001b[38;5;241;43m*\u001b[39;49m\u001b[43m \u001b[49m\u001b[43mother\u001b[49m\u001b[38;5;241;43m.\u001b[39;49m\u001b[43mdata\u001b[49m\u001b[43m[\u001b[49m\u001b[43mk\u001b[49m\u001b[43m]\u001b[49m\u001b[43m[\u001b[49m\u001b[43mj\u001b[49m\u001b[43m]\u001b[49m\u001b[43m \u001b[49m\u001b[38;5;28;43;01mfor\u001b[39;49;00m\u001b[43m \u001b[49m\u001b[43mk\u001b[49m\u001b[43m \u001b[49m\u001b[38;5;129;43;01min\u001b[39;49;00m\u001b[43m \u001b[49m\u001b[38;5;28;43mrange\u001b[39;49m\u001b[43m(\u001b[49m\u001b[38;5;28;43mself\u001b[39;49m\u001b[38;5;241;43m.\u001b[39;49m\u001b[43mn\u001b[49m\u001b[43m)\u001b[49m\u001b[43m)\u001b[49m \n\u001b[0;32m     53\u001b[0m               \u001b[38;5;28;01mfor\u001b[39;00m j \u001b[38;5;129;01min\u001b[39;00m \u001b[38;5;28mrange\u001b[39m(other\u001b[38;5;241m.\u001b[39mn)] \u001b[38;5;28;01mfor\u001b[39;00m i \u001b[38;5;129;01min\u001b[39;00m \u001b[38;5;28mrange\u001b[39m(\u001b[38;5;28mself\u001b[39m\u001b[38;5;241m.\u001b[39mm)])\n\u001b[0;32m     54\u001b[0m \u001b[38;5;28;01melif\u001b[39;00m \u001b[38;5;28misinstance\u001b[39m(other, (\u001b[38;5;28mint\u001b[39m, \u001b[38;5;28mfloat\u001b[39m)):\n\u001b[0;32m     55\u001b[0m     \u001b[38;5;28;01mreturn\u001b[39;00m Matrix([[\u001b[38;5;28mself\u001b[39m\u001b[38;5;241m.\u001b[39mdata[i][j] \u001b[38;5;241m*\u001b[39m other \u001b[38;5;28;01mfor\u001b[39;00m j \u001b[38;5;129;01min\u001b[39;00m \u001b[38;5;28mrange\u001b[39m(\u001b[38;5;28mself\u001b[39m\u001b[38;5;241m.\u001b[39mn)] \u001b[38;5;28;01mfor\u001b[39;00m i \u001b[38;5;129;01min\u001b[39;00m \u001b[38;5;28mrange\u001b[39m(\u001b[38;5;28mself\u001b[39m\u001b[38;5;241m.\u001b[39mm)])\n",
      "File \u001b[1;32md:\\py projects\\computational-mathematics\\matrixlib.py:52\u001b[0m, in \u001b[0;36m<genexpr>\u001b[1;34m(.0)\u001b[0m\n\u001b[0;32m     50\u001b[0m     \u001b[38;5;28;01mif\u001b[39;00m \u001b[38;5;28mself\u001b[39m\u001b[38;5;241m.\u001b[39mn \u001b[38;5;241m!=\u001b[39m other\u001b[38;5;241m.\u001b[39mm:\n\u001b[0;32m     51\u001b[0m         \u001b[38;5;28;01mraise\u001b[39;00m \u001b[38;5;167;01mValueError\u001b[39;00m(\u001b[38;5;124m\"\u001b[39m\u001b[38;5;124mbad dimensions\u001b[39m\u001b[38;5;124m\"\u001b[39m)\n\u001b[1;32m---> 52\u001b[0m     \u001b[38;5;28;01mreturn\u001b[39;00m Matrix([[\u001b[38;5;28msum\u001b[39m(\u001b[38;5;28mself\u001b[39m\u001b[38;5;241m.\u001b[39mdata[i][k] \u001b[38;5;241m*\u001b[39m other\u001b[38;5;241m.\u001b[39mdata[k][j] \u001b[38;5;28;01mfor\u001b[39;00m k \u001b[38;5;129;01min\u001b[39;00m \u001b[38;5;28mrange\u001b[39m(\u001b[38;5;28mself\u001b[39m\u001b[38;5;241m.\u001b[39mn)) \n\u001b[0;32m     53\u001b[0m               \u001b[38;5;28;01mfor\u001b[39;00m j \u001b[38;5;129;01min\u001b[39;00m \u001b[38;5;28mrange\u001b[39m(other\u001b[38;5;241m.\u001b[39mn)] \u001b[38;5;28;01mfor\u001b[39;00m i \u001b[38;5;129;01min\u001b[39;00m \u001b[38;5;28mrange\u001b[39m(\u001b[38;5;28mself\u001b[39m\u001b[38;5;241m.\u001b[39mm)])\n\u001b[0;32m     54\u001b[0m \u001b[38;5;28;01melif\u001b[39;00m \u001b[38;5;28misinstance\u001b[39m(other, (\u001b[38;5;28mint\u001b[39m, \u001b[38;5;28mfloat\u001b[39m)):\n\u001b[0;32m     55\u001b[0m     \u001b[38;5;28;01mreturn\u001b[39;00m Matrix([[\u001b[38;5;28mself\u001b[39m\u001b[38;5;241m.\u001b[39mdata[i][j] \u001b[38;5;241m*\u001b[39m other \u001b[38;5;28;01mfor\u001b[39;00m j \u001b[38;5;129;01min\u001b[39;00m \u001b[38;5;28mrange\u001b[39m(\u001b[38;5;28mself\u001b[39m\u001b[38;5;241m.\u001b[39mn)] \u001b[38;5;28;01mfor\u001b[39;00m i \u001b[38;5;129;01min\u001b[39;00m \u001b[38;5;28mrange\u001b[39m(\u001b[38;5;28mself\u001b[39m\u001b[38;5;241m.\u001b[39mm)])\n",
      "\u001b[1;31mKeyboardInterrupt\u001b[0m: "
     ]
    }
   ],
   "source": [
    "T = 10\n",
    "h = 4e-2\n",
    "N = int(T/h)\n",
    "ts = [(h * n) for n in range(N + 1)]\n",
    "u0 = Vector(0.5, 0.5)\n",
    "\n",
    "# starting points\n",
    "sp = RungeKuttaMethods.explicit_4_order(f, u0, h, 3)\n",
    "\n",
    "# show_result(ts, AdamsMethods.implicit_1_order(f, [u0], h, N), C)\n",
    "# show_result(ts, AdamsMethods.implicit_2_order(f, sp[:2], h, N), C)\n",
    "# show_result(ts, AdamsMethods.implicit_3_order(f, sp[:3], h, N), C)\n",
    "# show_result(ts, AdamsMethods.implicit_4_order(f, sp, h, N), C)\n",
    "# print(\"---------------------------------------------\")\n",
    "# show_result(ts, BDF.implicit_2_order(f, sp[:2], h, N), C)\n",
    "# show_result(ts, BDF.implicit_3_order(f, sp[:3], h, N), C)\n",
    "# show_result(ts, BDF.implicit_4_order(f, sp, h, N), C)\n",
    "\n",
    "def auto_f(u : Vector):\n",
    "    return Vector(u[1], u[0]**2 - 1)\n",
    "\n",
    "show_result(ts, RungeKuttaMethods.implicit_1_order(f, u0, h, N), C)\n",
    "show_result(ts, RungeKuttaMethods.implicit_2_order(f, u0, h, N), C)\n",
    "show_result(ts, RungeKuttaMethods.implicit_3_order(f, u0, h, N), C)\n",
    "show_result(ts, RungeKuttaMethods.implicit_4_order(f, u0, h, N), C)"
   ]
  }
 ],
 "metadata": {
  "kernelspec": {
   "display_name": "Python 3",
   "language": "python",
   "name": "python3"
  },
  "language_info": {
   "codemirror_mode": {
    "name": "ipython",
    "version": 3
   },
   "file_extension": ".py",
   "mimetype": "text/x-python",
   "name": "python",
   "nbconvert_exporter": "python",
   "pygments_lexer": "ipython3",
   "version": "3.12.2"
  }
 },
 "nbformat": 4,
 "nbformat_minor": 2
}
