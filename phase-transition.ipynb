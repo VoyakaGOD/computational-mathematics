{
 "cells": [
  {
   "cell_type": "markdown",
   "id": "9f29bd5f",
   "metadata": {},
   "source": [
    "Рассмотрим задачу о намерзании льда на поверхности водоёма глубиной $1$ метр, который в начальный момент времени находится полностью в жидком состоянии.\n",
    "\n",
    "Для этого решим уравнение теплопроводности, при учёте фазового перехода в среде, считая, что плотность среды $\\rho$ не изменяется при фазовом перходе.\n",
    "\n",
    "$$\\begin{cases}\n",
    "    \\rho c_s \\frac{\\partial T}{\\partial t} = a_s \\frac{\\partial^2 T}{\\partial x^2}, \\; 0 < x < y(t) \\\\\n",
    "    \\rho c_f \\frac{\\partial T}{\\partial t} = a_f \\frac{\\partial^2 T}{\\partial x^2}, \\; y(t) < x < 1 \\\\\n",
    "    T(y(t), t) = T_p\n",
    "\\end{cases}$$\n",
    "\n",
    "Здесь $y(t)$ - граница раздела фаз, $T(x, t)$ - распределние температуры, $T_p = 273 \\text{К}$ - температура плавления льда.\n",
    "\n",
    "Также необходимо учесть условие баланса энергии при движении фазового фронта:\n",
    "\n",
    "$$a_s \\frac{\\partial T}{\\partial x}(y(t) - 0) - a_f \\frac{\\partial T}{\\partial x}(y(t) + 0) = \\rho L \\frac{\\partial y}{\\partial t}$$\n",
    "\n",
    "В качестве начально-краевых условий возмём:\n",
    "\n",
    "$T(x, 0) = \\varphi(x) = \\left( 7x + 273 \\right) \\text{К}$\n",
    "\n",
    "$T(0, t) = 273 [1 - 13(1 - e^{-10t})] \\text{К}$ - поверхность водоёма\n",
    "\n",
    "$T(1, t) = 280 \\text{К}$ - дно водоёма"
   ]
  },
  {
   "cell_type": "markdown",
   "id": "372353b5",
   "metadata": {},
   "source": [
    "Схема Лакса-Вендроффа"
   ]
  },
  {
   "cell_type": "code",
   "execution_count": null,
   "id": "96c753a2",
   "metadata": {},
   "outputs": [],
   "source": [
    "from PDElib import *\n",
    "\n",
    "@dataclass\n",
    "class HEParams:\n",
    "    rho : float # density\n",
    "    T_p : float # phase change temperature\n",
    "    L : float # heat of fusion\n",
    "    # fluid:\n",
    "    c_f : float # heat capacity\n",
    "    a_f : float # thermal conductivity\n",
    "    #solid:\n",
    "    c_s : float # heat capacity\n",
    "    a_s : float # thermal conductivity\n",
    "\n",
    "# Heat Equation Solver\n",
    "# solve rho*c*T't = a*T''x = 0\n",
    "# c = c_s if x < y(t) else c = c_f\n",
    "# a = a_s if x < y(t) else a = a_f\n",
    "# y(t) defined by rule T(y(t), t) = T_p\n",
    "# WARNING: The temperature should increase monotonically from left to right!\n",
    "# takes into account the balance of energies:\n",
    "# a_s*T'x(y(t) - 0) - a_f*T'x(y(t) + 0) = rho*L*y't\n",
    "# T(x, 0) = phi(1)\n",
    "# T(0, t) = psi_l(t)\n",
    "# T(l, t) = psi_r(t)\n",
    "# returns [y[t], u[t][x]]\n",
    "class HESolver:\n",
    "    @staticmethod\n",
    "    def __prepare(grid : Grid, phi : RtoR, psi_l : RtoR, psi_r : RtoR):\n",
    "        tau = grid.T / grid.N\n",
    "        h = grid.L / grid.M\n",
    "        u = [[phi(m*h) for m in range(grid.M + 1)]]\n",
    "        for n in range(1, grid.N + 1):\n",
    "            u += [[psi_l(tau*n)] + [0 for _ in range(grid.M - 1)] + [psi_r(tau*n)]]\n",
    "        return tau, h, u\n",
    "\n",
    "    @staticmethod\n",
    "    def solve_by_Lax_Wendroff_scheme(params : HEParams, grid: Grid, phi: RtoR, psi_l: RtoR, psi_r: RtoR):\n",
    "        tau, h, u = HESolver.__prepare(grid, phi, psi_l, psi_r)\n",
    "        y = 0\n",
    "        for n in range(grid.N):\n",
    "            for m in range(1, grid.M):\n",
    "                u[n+1][m] = u[n][m]\n",
    "        return u"
   ]
  }
 ],
 "metadata": {
  "kernelspec": {
   "display_name": "Python 3",
   "language": "python",
   "name": "python3"
  },
  "language_info": {
   "codemirror_mode": {
    "name": "ipython",
    "version": 3
   },
   "file_extension": ".py",
   "mimetype": "text/x-python",
   "name": "python",
   "nbconvert_exporter": "python",
   "pygments_lexer": "ipython3",
   "version": "3.12.2"
  }
 },
 "nbformat": 4,
 "nbformat_minor": 5
}
