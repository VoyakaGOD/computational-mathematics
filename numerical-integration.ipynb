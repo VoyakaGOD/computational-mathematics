{
 "cells": [
  {
   "cell_type": "markdown",
   "metadata": {},
   "source": [
    "### Newton–Cotes quadrature rules"
   ]
  },
  {
   "cell_type": "code",
   "execution_count": 22,
   "metadata": {},
   "outputs": [
    {
     "name": "stdout",
     "output_type": "stream",
     "text": [
      "Метод трапеций:\n"
     ]
    },
    {
     "data": {
      "text/latex": [
       "$\\displaystyle I_{tr} = 1.6031443749999998$"
      ],
      "text/plain": [
       "<IPython.core.display.Math object>"
      ]
     },
     "metadata": {},
     "output_type": "display_data"
    },
    {
     "name": "stdout",
     "output_type": "stream",
     "text": [
      "Метод Симпсона:\n"
     ]
    },
    {
     "data": {
      "text/latex": [
       "$\\displaystyle I_{Sp} = 1.6054185833333334$"
      ],
      "text/plain": [
       "<IPython.core.display.Math object>"
      ]
     },
     "metadata": {},
     "output_type": "display_data"
    },
    {
     "name": "stdout",
     "output_type": "stream",
     "text": [
      "Правило Рунге для метода трапеций:\n"
     ]
    },
    {
     "data": {
      "text/latex": [
       "$\\displaystyle I_{Rg} = 1.6054185833333332$"
      ],
      "text/plain": [
       "<IPython.core.display.Math object>"
      ]
     },
     "metadata": {},
     "output_type": "display_data"
    },
    {
     "name": "stdout",
     "output_type": "stream",
     "text": [
      "Отсюда видно, что правило Рунге делает из метода трапеций метод Симпсона.\n"
     ]
    }
   ],
   "source": [
    "from IPython.display import display, Math\n",
    "\n",
    "def check_args(xs, ys, odd = False):\n",
    "    if len(xs) != len(ys):\n",
    "        raise Exception(\"invalid args len\")\n",
    "    if odd and (len(xs) % 2 == 0):\n",
    "        raise Exception(\"This rule requires odd number of points\")\n",
    "\n",
    "def integrate_by_trapezoids(xs, ys):\n",
    "    check_args(xs, ys)\n",
    "    n = len(xs)\n",
    "    I = 0\n",
    "    for i in range(n - 1):\n",
    "        I += (xs[i + 1] - xs[i]) * (ys[i + 1] + ys[i]) / 2\n",
    "    return I\n",
    "\n",
    "def integrate_by_Simpson(xs, ys):\n",
    "    check_args(xs, ys, odd=True)\n",
    "    n = len(xs)\n",
    "    I = 0\n",
    "    for i in range(0, n - 2, 2):\n",
    "        I += (xs[i + 2] - xs[i]) * (ys[i + 2] + 4*ys[i + 1] + ys[i]) / 6\n",
    "    return I\n",
    "\n",
    "def apply_Runge_rule(xs, ys, method, order):\n",
    "    check_args(xs, ys, odd=True)\n",
    "    I = method(xs, ys)\n",
    "    I2 = method(xs[::2], ys[::2])\n",
    "    return I + (I - I2) / (2**order - 1)\n",
    "\n",
    "xs = [0, 0.25, 0.5, 0.75, 1.0, 1.25, 1.5, 1.75, 2.0]\n",
    "fs = [1.0000000, 0.989616, 0.958851, 0.908852, 0.841471, 0.759188, 0.664997, 0.562278, 0.454649]\n",
    "\n",
    "print(\"Метод трапеций:\")\n",
    "display(Math(f\"I_{{tr}} = {integrate_by_trapezoids(xs, fs)}\"))\n",
    "print(\"Метод Симпсона:\")\n",
    "display(Math(f\"I_{{Sp}} = {integrate_by_Simpson(xs, fs)}\"))\n",
    "print(\"Правило Рунге для метода трапеций:\")\n",
    "display(Math(f\"I_{{Rg}} = {apply_Runge_rule(xs, fs, integrate_by_trapezoids, 2)}\"))\n",
    "print(\"Отсюда видно, что правило Рунге делает из метода трапеций метод Симпсона.\")"
   ]
  },
  {
   "cell_type": "markdown",
   "metadata": {},
   "source": []
  }
 ],
 "metadata": {
  "kernelspec": {
   "display_name": "Python 3",
   "language": "python",
   "name": "python3"
  },
  "language_info": {
   "codemirror_mode": {
    "name": "ipython",
    "version": 3
   },
   "file_extension": ".py",
   "mimetype": "text/x-python",
   "name": "python",
   "nbconvert_exporter": "python",
   "pygments_lexer": "ipython3",
   "version": "3.12.2"
  }
 },
 "nbformat": 4,
 "nbformat_minor": 2
}
