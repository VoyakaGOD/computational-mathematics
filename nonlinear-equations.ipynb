{
 "cells": [
  {
   "cell_type": "markdown",
   "metadata": {},
   "source": [
    "#### $$x^2 - \\frac{e^x}{5} = 0$$"
   ]
  },
  {
   "cell_type": "code",
   "execution_count": 7,
   "metadata": {},
   "outputs": [],
   "source": [
    "from math import *\n",
    "\n",
    "ln = lambda x: log(x, e)\n",
    "\n",
    "def f(x : float) -> float:\n",
    "    return x**2 - exp(x) / 5\n",
    "\n",
    "iterations = 10\n",
    "\n",
    "def check_method(method, x0 : float):\n",
    "    x = method(x0)\n",
    "    print(f\"x = {x}, ε = {abs(f(x))}\")"
   ]
  },
  {
   "cell_type": "markdown",
   "metadata": {},
   "source": [
    "$f(x) = x^2 - \\frac{e^x}{5}$\n",
    "\n",
    "Из геометрических соображений видно, что уравнение $f(x) = 0$ имеет 3 решения, по одному на каждом из интервалов: \n",
    "\n",
    "$I_1 = (-2; -0.1)$, $I_2 = (0.1; 2)$, $I_3 = (2; +\\infty)$\n",
    "\n",
    "Для их нахождения построим МПИ:\n",
    "\n",
    "**1)** $e^x - 5x^2 = 0 \\Leftrightarrow x = \\ln(5x^2)$\n",
    "\n",
    "$x_{n+1} = \\varphi(x_n)$, где $\\varphi(x) = \\ln(5x^2)$\n",
    "\n",
    "$|\\varphi'(x)| = \\frac{2}{|x|} \\Rightarrow$ отображение является сжимающим на $I_3$.\n",
    "\n",
    "**2)** $xe^x - 5x^3 = 0 \\Leftrightarrow x = \\sqrt[3]{\\frac{xe^x}{5}}$\n",
    "\n",
    "$x_{n+1} = \\psi(x_n)$, где $\\psi(x) = \\sqrt[3]{\\frac{xe^x}{5}}$\n",
    "\n",
    "$|\\psi'(x)| = \\frac{|1+x|}{3}\\sqrt[3]{\\frac{e^x}{5x^2}}$\n",
    "\n",
    "Анализ показывает, что $|\\psi'(x)| < 1$ на $I_1$ и $I_2 \\Rightarrow$ отображение является сжимающим на этих интервалах."
   ]
  },
  {
   "cell_type": "code",
   "execution_count": 8,
   "metadata": {},
   "outputs": [
    {
     "name": "stdout",
     "output_type": "stream",
     "text": [
      "x = 4.708472854286686, ε = 0.006822681711739165\n",
      "x = 0.6060105489732267, ε = 0.0006280426096200165\n",
      "x = -0.3714177857271311, ε = 2.9301973680784243e-08\n"
     ]
    }
   ],
   "source": [
    "def find_solution_by_phi(x0 : float) -> float:\n",
    "    x = x0\n",
    "    for n in range(iterations):\n",
    "        x = ln(5 * x * x)\n",
    "    return x\n",
    "\n",
    "def find_solution_by_psi(x0 : float) -> float:\n",
    "    x = x0\n",
    "    for n in range(iterations):\n",
    "        x = cbrt(x * exp(x) / 5)\n",
    "    return x\n",
    "\n",
    "check_method(find_solution_by_phi, 10)\n",
    "check_method(find_solution_by_psi, 1)\n",
    "check_method(find_solution_by_psi, -1)"
   ]
  },
  {
   "cell_type": "markdown",
   "metadata": {},
   "source": [
    "### Метод Ньютона\n",
    "\n",
    "$f'(x) \\approx \\frac{f(x + \\varepsilon_d) - f(x - \\varepsilon_d)}{2\\varepsilon_d}$"
   ]
  },
  {
   "cell_type": "code",
   "execution_count": 9,
   "metadata": {},
   "outputs": [
    {
     "name": "stdout",
     "output_type": "stream",
     "text": [
      "x = 4.7079379182533705, ε = 1.5873702352564578e-09\n",
      "x = 0.6052671213146186, ε = 1.1102230246251565e-16\n",
      "x = -0.37141775245917386, ε = 0.0\n"
     ]
    }
   ],
   "source": [
    "eps_d = 1e-5\n",
    "\n",
    "def df(x):\n",
    "    return (f(x + eps_d) - f(x - eps_d)) / (2 * eps_d)\n",
    "\n",
    "def find_solution_by_Newton(x0 : float) -> float:\n",
    "    x = x0\n",
    "    for n in range(iterations):\n",
    "        x = x - f(x) / df(x)\n",
    "    return x\n",
    "\n",
    "check_method(find_solution_by_Newton, 10)\n",
    "check_method(find_solution_by_Newton, 1)\n",
    "check_method(find_solution_by_Newton, -1)"
   ]
  },
  {
   "cell_type": "markdown",
   "metadata": {},
   "source": [
    "#### $$ \\begin{cases} tg(xy + 0.4) = x^2\\\\ 0.6x^2 + 2y^2 = 1 \\end{cases} $$"
   ]
  },
  {
   "cell_type": "code",
   "execution_count": null,
   "metadata": {},
   "outputs": [],
   "source": [
    "from matrixlib import *\n",
    "\n",
    "def f(u : Vector) -> Vector:\n",
    "    x = u[0]\n",
    "    y = u[1]\n",
    "    return Vector(tan(x*y + 0.4*x) - x*x, 0.6*x*x + 2*y*y - 1)\n",
    "\n",
    "iterations = 20\n",
    "norm = get_Euclidian_norm\n",
    "\n",
    "def check_method(method, u0 : Vector):\n",
    "    x = method(u0)\n",
    "    print(f\"x = ({x[0]}, {x[1]})ᵀ, ε = {norm(f(x))}\")"
   ]
  },
  {
   "cell_type": "markdown",
   "metadata": {},
   "source": [
    "Второе уравнение задаёт эллипс с полуосями $a = \\sqrt{\\frac{5}{3}}, b = \\frac{1}{\\sqrt{2}}$.\n",
    "\n",
    "Тогда решения должны принадлежать множеству $[-\\sqrt{\\frac{5}{3}}, \\sqrt{\\frac{5}{3}}]\\times[-\\frac{1}{\\sqrt{2}}, \\frac{1}{\\sqrt{2}}]$."
   ]
  },
  {
   "cell_type": "code",
   "execution_count": 11,
   "metadata": {},
   "outputs": [
    {
     "name": "stdout",
     "output_type": "stream",
     "text": [
      "x = (1.0484001359003647, 0.4126222806795933)ᵀ, ε = 0.04368427799963359\n"
     ]
    }
   ],
   "source": [
    "def test(u0 : Vector) -> Vector:\n",
    "    x = u0[0]\n",
    "    y = u0[1]\n",
    "    for n in range(iterations):\n",
    "        x = sqrt(tan(x*y + 0.4))\n",
    "        y = sqrt(0.5 - 0.3*x*x)\n",
    "    return Vector(x, y)\n",
    "\n",
    "check_method(test, Vector(1, 0.6))"
   ]
  },
  {
   "cell_type": "markdown",
   "metadata": {},
   "source": [
    "#### Метод Ньютона"
   ]
  },
  {
   "cell_type": "code",
   "execution_count": null,
   "metadata": {},
   "outputs": [],
   "source": []
  }
 ],
 "metadata": {
  "kernelspec": {
   "display_name": "Python 3",
   "language": "python",
   "name": "python3"
  },
  "language_info": {
   "codemirror_mode": {
    "name": "ipython",
    "version": 3
   },
   "file_extension": ".py",
   "mimetype": "text/x-python",
   "name": "python",
   "nbconvert_exporter": "python",
   "pygments_lexer": "ipython3",
   "version": "3.12.2"
  }
 },
 "nbformat": 4,
 "nbformat_minor": 2
}
