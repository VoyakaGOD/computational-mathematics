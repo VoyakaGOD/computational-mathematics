{
 "cells": [
  {
   "cell_type": "markdown",
   "metadata": {},
   "source": [
    "#### $$x^2 - \\frac{e^x}{5} = 0$$"
   ]
  },
  {
   "cell_type": "code",
   "execution_count": 221,
   "metadata": {},
   "outputs": [],
   "source": [
    "from math import *\n",
    "\n",
    "ln = lambda x: log(x, e)\n",
    "\n",
    "def f(x : float) -> float:\n",
    "    return x**2 - exp(x) / 5\n",
    "\n",
    "iterations = 10\n",
    "\n",
    "def check_method(method, x0 : float):\n",
    "    x = method(x0)\n",
    "    print(f\"x = {x}, ε = {abs(f(x))}\")"
   ]
  },
  {
   "cell_type": "markdown",
   "metadata": {},
   "source": [
    "$f(x) = x^2 - \\frac{e^x}{5}$\n",
    "\n",
    "Из геометрических соображений видно, что уравнение $f(x) = 0$ имеет 3 решения, по одному на каждом из интервалов: \n",
    "\n",
    "$I_1 = (-2; -0.1)$, $I_2 = (0.1; 2)$, $I_3 = (2; +\\infty)$\n",
    "\n",
    "Для их нахождения построим МПИ:\n",
    "\n",
    "**1)** $e^x - 5x^2 = 0 \\Leftrightarrow x = \\ln(5x^2)$\n",
    "\n",
    "$x_{n+1} = \\varphi(x_n)$, где $\\varphi(x) = \\ln(5x^2)$\n",
    "\n",
    "$|\\varphi'(x)| = \\frac{2}{|x|} \\Rightarrow$ отображение является сжимающим на $I_3$.\n",
    "\n",
    "**2)** $xe^x - 5x^3 = 0 \\Leftrightarrow x = \\sqrt[3]{\\frac{xe^x}{5}}$\n",
    "\n",
    "$x_{n+1} = \\psi(x_n)$, где $\\psi(x) = \\sqrt[3]{\\frac{xe^x}{5}}$\n",
    "\n",
    "$|\\psi'(x)| = \\frac{|1+x|}{3}\\sqrt[3]{\\frac{e^x}{5x^2}}$\n",
    "\n",
    "Анализ показывает, что $|\\psi'(x)| < 1$ на $I_1$ и $I_2 \\Rightarrow$ отображение является сжимающим на этих интервалах."
   ]
  },
  {
   "cell_type": "code",
   "execution_count": 222,
   "metadata": {},
   "outputs": [
    {
     "name": "stdout",
     "output_type": "stream",
     "text": [
      "x = 4.708472854286686, ε = 0.006822681711739165\n",
      "x = 0.6060105489732267, ε = 0.0006280426096200165\n",
      "x = -0.3714177857271311, ε = 2.9301973680784243e-08\n"
     ]
    }
   ],
   "source": [
    "def find_solution_by_phi(x0 : float) -> float:\n",
    "    x = x0\n",
    "    for n in range(iterations):\n",
    "        x = ln(5 * x * x)\n",
    "    return x\n",
    "\n",
    "def find_solution_by_psi(x0 : float) -> float:\n",
    "    x = x0\n",
    "    for n in range(iterations):\n",
    "        x = cbrt(x * exp(x) / 5)\n",
    "    return x\n",
    "\n",
    "check_method(find_solution_by_phi, 10)\n",
    "check_method(find_solution_by_psi, 1)\n",
    "check_method(find_solution_by_psi, -1)"
   ]
  },
  {
   "cell_type": "markdown",
   "metadata": {},
   "source": [
    "### Метод Ньютона\n",
    "\n",
    "$f'(x) \\approx \\frac{f(x + \\varepsilon_d) - f(x - \\varepsilon_d)}{2\\varepsilon_d}$"
   ]
  },
  {
   "cell_type": "code",
   "execution_count": 223,
   "metadata": {},
   "outputs": [
    {
     "name": "stdout",
     "output_type": "stream",
     "text": [
      "x = 4.7079379182533705, ε = 1.5873702352564578e-09\n",
      "x = 0.6052671213146186, ε = 1.1102230246251565e-16\n",
      "x = -0.37141775245917386, ε = 0.0\n"
     ]
    }
   ],
   "source": [
    "eps_d = 1e-5\n",
    "\n",
    "def df(x):\n",
    "    return (f(x + eps_d) - f(x - eps_d)) / (2 * eps_d)\n",
    "\n",
    "def find_solution_by_Newton(x0 : float) -> float:\n",
    "    x = x0\n",
    "    for n in range(iterations):\n",
    "        x = x - f(x) / df(x)\n",
    "    return x\n",
    "\n",
    "check_method(find_solution_by_Newton, 10)\n",
    "check_method(find_solution_by_Newton, 1)\n",
    "check_method(find_solution_by_Newton, -1)"
   ]
  },
  {
   "cell_type": "markdown",
   "metadata": {},
   "source": [
    "#### $$ \\begin{cases} tg(xy + 0.4) = x^2\\\\ 0.6x^2 + 2y^2 = 1 \\end{cases} $$"
   ]
  },
  {
   "cell_type": "code",
   "execution_count": 224,
   "metadata": {},
   "outputs": [],
   "source": [
    "from matrixlib import *\n",
    "import matplotlib.pyplot as plt\n",
    "\n",
    "def f(u : Vector) -> Vector:\n",
    "    x = u[0]\n",
    "    y = u[1]\n",
    "    return Vector(tan(x*y + 0.4) - x*x, 0.6*x*x + 2*y*y - 1)\n",
    "\n",
    "iterations = 200\n",
    "norm = get_Euclidian_norm\n",
    "\n",
    "###################################################\n",
    "#comparsion FPI and Newton:\n",
    "class comparsion_plots:\n",
    "    def __init__(self):\n",
    "        self.plots = []\n",
    "\n",
    "    def begin_plot(self, name : str):\n",
    "        self.plots += [[name, []]]\n",
    "\n",
    "    def add_point_to_plot(self, u : Vector):\n",
    "        self.plots[-1][1] += [norm(f(u))]\n",
    "\n",
    "    def show_result(self):\n",
    "        for plot in self.plots:\n",
    "            plt.plot([(it + 1) for it in range(len(plot[1]))], plot[1], label=plot[0])\n",
    "        plt.title(\"FPI vs Newton\")\n",
    "        plt.xlabel(\"iteration\")\n",
    "        plt.ylabel(r\"$\\epsilon$\")\n",
    "        plt.yscale(\"log\")\n",
    "        plt.xscale(\"log\")\n",
    "        plt.legend()\n",
    "        plt.show()\n",
    "\n",
    "plots = comparsion_plots()\n",
    "###################################################\n",
    "\n",
    "def check_method(method, u0 : Vector, plots : comparsion_plots = None):\n",
    "    u = method(u0, plots)\n",
    "    print(f\"u = ({u[0]}, {u[1]})ᵀ, ε = {norm(f(u))}\")"
   ]
  },
  {
   "cell_type": "markdown",
   "metadata": {},
   "source": [
    "Второе уравнение задаёт эллипс с полуосями $a = \\sqrt{\\frac{5}{3}}, b = \\frac{1}{\\sqrt{2}}$.\n",
    "\n",
    "Тогда решения должны принадлежать множеству $[-\\sqrt{\\frac{5}{3}}, \\sqrt{\\frac{5}{3}}]\\times[-\\frac{1}{\\sqrt{2}}, \\frac{1}{\\sqrt{2}}]$.\n",
    "\n",
    "Построение графика первого уравнения показывает, что система имеет \\\n",
    "всего 4 решения, по одному на каждый квадрант.\\\n",
    "Для их нахождения постоим МПИ.\n",
    "\n",
    "Исходную систему можно переписть в виде:\n",
    "\n",
    "$\\begin{cases} \n",
    "x = \\sqrt[3]{x \\; tg(xy + 0.4)}\\\\ \n",
    "y^2 = 0.5 - 0.3x^2 \n",
    "\\end{cases}$\n",
    "\n",
    "Откуда получаем два метода:\n",
    "\n",
    "**1)** \n",
    "$\\begin{cases} \n",
    "x_{n+1} = \\varphi_1(x_n, y_n) = \\sqrt[3]{x_n \\; tg(x_ny_n + 0.4)}\\\\ \n",
    "y_{n+1} = \\varphi_2(x_n, y_n) = \\sqrt{0.5 - 0.3x_n^2} \n",
    "\\end{cases}$\n",
    "\n",
    "**2)** \n",
    "$\\begin{cases} \n",
    "x_{n+1} = \\psi_1(x_n, y_n) = \\sqrt[3]{x_n \\; tg(x_ny_n + 0.4)}\\\\ \n",
    "y_{n+1} = \\psi_2(x_n, y_n) = -\\sqrt{0.5 - 0.3x_n^2} \n",
    "\\end{cases}$\n",
    "\n",
    "Для нахождения областей, в которых эти отображения являются сжимающими, выпишем их матрицы Якоби:\n",
    "\n",
    "$J_\\varphi(x, y) = \\begin{pmatrix}\n",
    "\\frac{tg(xy + 0.4) + xy\\cos^{-2}(xy + 0.4)}{3\\left(\\sqrt[3]{x \\; tg(xy + 0.4)}\\right)^2} & \n",
    "\\frac{x^2\\cos^{-2}(xy + 0.4)}{3\\left(\\sqrt[3]{x \\; tg(xy + 0.4)}\\right)^2}\\\\\n",
    "-\\frac{0.3x}{\\sqrt{0.5 - 0.3x^2}} & 0\n",
    "\\end{pmatrix}$\n",
    "\n",
    "\n",
    "$J_\\psi(x, y) = \\begin{pmatrix}\n",
    "\\frac{tg(xy + 0.4) + xy\\cos^{-2}(xy + 0.4)}{3\\left(\\sqrt[3]{x \\; tg(xy + 0.4)}\\right)^2} & \n",
    "\\frac{x^2\\cos^{-2}(xy + 0.4)}{3\\left(\\sqrt[3]{x \\; tg(xy + 0.4)}\\right)^2}\\\\\n",
    "\\frac{0.3x}{\\sqrt{0.5 - 0.3x^2}} & 0\n",
    "\\end{pmatrix}$\n",
    "\n",
    "Используя столбцовую норму можно показать, что:\n",
    "\n",
    "$\\varphi$ - является сжимающим в области $(0.96; 1.04) \\times (0.18;0.62)$\n",
    "\n",
    "$\\varphi$ - является сжимающим в области $(-0.48; -0.32) \\times (0.5;0.7)$\n",
    "\n",
    "$\\psi$ - является сжимающим в области $(-1.06; -0.94) \\times (-0.6; -0.2)$\n",
    "\n",
    "$\\psi$ - является сжимающим в области $(0.32; 0.48) \\times (-0.7; -0.5)$\n",
    "\n",
    "С помощью графического калькулятора(Desmos), можно убедиться, что корни лежат в этих областях."
   ]
  },
  {
   "cell_type": "code",
   "execution_count": 228,
   "metadata": {},
   "outputs": [
    {
     "name": "stdout",
     "output_type": "stream",
     "text": [
      "u = (1.048400141102623, 0.4126222767141883)ᵀ, ε = 6.661338147750939e-16\n",
      "u = (-0.3798484443174809, 0.6758065905308093)ᵀ, ε = 8.326672684688674e-17\n",
      "u = (-1.048400141102623, -0.4126222767141883)ᵀ, ε = 6.661338147750939e-16\n",
      "u = (0.3798484443174809, -0.6758065905308093)ᵀ, ε = 8.326672684688674e-17\n"
     ]
    }
   ],
   "source": [
    "def find_solution_by_phi(u0 : Vector, plots : comparsion_plots) -> Vector:\n",
    "    x = u0[0]\n",
    "    y = u0[1]\n",
    "    if plots: plots.begin_plot(\"FPI\")\n",
    "    for n in range(iterations):\n",
    "        x, y = cbrt(x * tan(x*y + 0.4)), sqrt(0.5 - 0.3*x*x)\n",
    "        if plots: plots.add_point_to_plot(Vector(x, y))\n",
    "    return Vector(x, y)\n",
    "\n",
    "def find_solution_by_psi(u0 : Vector, plots : comparsion_plots) -> Vector:\n",
    "    x = u0[0]\n",
    "    y = u0[1]\n",
    "    if plots: plots.begin_plot(\"FPI\")\n",
    "    for n in range(iterations):\n",
    "        x, y = cbrt(x * tan(x*y + 0.4)), -sqrt(0.5 - 0.3*x*x)\n",
    "        if plots: plots.add_point_to_plot(Vector(x, y))\n",
    "    return Vector(x, y)\n",
    "\n",
    "check_method(find_solution_by_phi, Vector(1, 0.6), plots)\n",
    "check_method(find_solution_by_phi, Vector(-0.4, 0.6))\n",
    "check_method(find_solution_by_psi, Vector(-1, -0.5))\n",
    "check_method(find_solution_by_psi, Vector(0.4, -0.6))"
   ]
  },
  {
   "cell_type": "markdown",
   "metadata": {},
   "source": [
    "#### Метод Ньютона"
   ]
  },
  {
   "cell_type": "code",
   "execution_count": 226,
   "metadata": {},
   "outputs": [
    {
     "name": "stdout",
     "output_type": "stream",
     "text": [
      "u = (1.0484001411147057, 0.4126222767151872)ᵀ, ε = 2.0693746687230202e-11\n",
      "u = (-0.3798484443014382, 0.6758065905347701)ᵀ, ε = 2.1982884291919772e-11\n",
      "u = (-1.0484001411147057, -0.4126222767151872)ᵀ, ε = 2.0693746687230202e-11\n",
      "u = (0.3798484443014382, -0.6758065905347701)ᵀ, ε = 2.1982884291919772e-11\n"
     ]
    }
   ],
   "source": [
    "eps_d = 1e-10 #differentiation accuracy\n",
    "eps_l = 1e-10 #linear system solving accuracy\n",
    "\n",
    "def solve_linear_system_by_Seidel(A : Matrix, f : Vector, x0 : Vector) -> Vector:\n",
    "    f = A.T() * f\n",
    "    A = A.T() * A\n",
    "    n = A.n\n",
    "    x = x0.copy()\n",
    "    x_dual = Vector.zeros(n)\n",
    "    while norm(A * x - f) > eps_l:\n",
    "        for i in range(n):\n",
    "            x_dual[i] = -(sum([A[i, j] * x_dual[j] for j in range(i) if i != j]) \n",
    "                          + sum([A[i, j] * x[j] for j in range(i+1, n) if i != j]) \n",
    "                          - f[i]) / A[i, i]\n",
    "        x, x_dual = x_dual, x\n",
    "    return x\n",
    "\n",
    "def J(u : Vector) -> Matrix:\n",
    "    dfx = (f(u + Vector(eps_d, 0)) - f(u - Vector(eps_d, 0))) / (2 * eps_d)\n",
    "    dfy = (f(u + Vector(0, eps_d)) - f(u - Vector(0, eps_d))) / (2 * eps_d)\n",
    "    return Matrix([(dfx[0], dfy[0]), (dfx[1], dfy[1])])\n",
    "\n",
    "def find_solution_by_Newton(u0 : Vector, plots : comparsion_plots) -> Vector:\n",
    "    u = u0.copy()\n",
    "    if plots: plots.begin_plot(\"Newton\")\n",
    "    for n in range(iterations):\n",
    "        du = solve_linear_system_by_Seidel(J(u), -f(u), Vector(0, 0))\n",
    "        u += du\n",
    "        if plots: plots.add_point_to_plot(u)\n",
    "    return u\n",
    "\n",
    "check_method(find_solution_by_Newton, Vector(1, 1), plots)\n",
    "check_method(find_solution_by_Newton, Vector(-1, 1))\n",
    "check_method(find_solution_by_Newton, Vector(-1, -1))\n",
    "check_method(find_solution_by_Newton, Vector(1, -1))"
   ]
  },
  {
   "cell_type": "markdown",
   "metadata": {},
   "source": [
    "#### Сравнение МПИ и метода Ньютона для решения в первом квадранте"
   ]
  },
  {
   "cell_type": "code",
   "execution_count": 227,
   "metadata": {},
   "outputs": [
    {
     "data": {
      "image/png": "[encoded data removed]",
      "text/plain": [
       "<Figure size 640x480 with 1 Axes>"
      ]
     },
     "metadata": {},
     "output_type": "display_data"
    }
   ],
   "source": [
    "plots.show_result()"
   ]
  }
 ],
 "metadata": {
  "kernelspec": {
   "display_name": "Python 3",
   "language": "python",
   "name": "python3"
  },
  "language_info": {
   "codemirror_mode": {
    "name": "ipython",
    "version": 3
   },
   "file_extension": ".py",
   "mimetype": "text/x-python",
   "name": "python",
   "nbconvert_exporter": "python",
   "pygments_lexer": "ipython3",
   "version": "3.12.2"
  }
 },
 "nbformat": 4,
 "nbformat_minor": 2
}
