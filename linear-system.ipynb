{
 "cells": [
  {
   "cell_type": "code",
   "execution_count": 72,
   "metadata": {},
   "outputs": [],
   "source": [
    "class Matrix:\n",
    "    pass\n",
    "class Vector:\n",
    "    pass\n",
    "\n",
    "class Matrix:\n",
    "    def __init__(self, data):\n",
    "        self.data = data\n",
    "        self.m = len(data)          #rows\n",
    "        self.n = len(data[0])       #cols\n",
    "\n",
    "    def shape(self) -> tuple[int, int]:\n",
    "        return self.m, self.n\n",
    "    \n",
    "    def T(self) -> Matrix:\n",
    "        return Matrix([[self.data[j][i] for j in range(self.m)] for i in range(self.n)])\n",
    "\n",
    "    def __str__(self) -> str:\n",
    "        max_item_size = 0\n",
    "        for row in self.data:\n",
    "            for item in row:\n",
    "                max_item_size = max(max_item_size, len(str(item)))\n",
    "        def min_str(item):\n",
    "            string = str(item)\n",
    "            delta = max_item_size - len(string)\n",
    "            left = delta // 2\n",
    "            return (\" \" * left) + str(item) + (\" \" * (delta - left))\n",
    "        return '\\n'.join([\"|| \" + (\" \".join(map(min_str, row))) + \" ||\" for row in self.data])\n",
    "\n",
    "    def __repr__(self) -> str:\n",
    "        return f\"Matrix({self.m}x{self.n})\"\n",
    "\n",
    "    def __add__(self, other : Matrix) -> Matrix:\n",
    "        if isinstance(other, Matrix) and self.shape() == other.shape():\n",
    "            return Matrix([[self.data[i][j] + other.data[i][j] for j in range(self.n)] for i in range(self.m)])\n",
    "        else:\n",
    "            raise ValueError(\"matrix add/sub error\")\n",
    "        \n",
    "    def __mul__(self, other : Matrix | float) -> Matrix:\n",
    "        if isinstance(other, Matrix):\n",
    "            if self.n != other.m:\n",
    "                raise ValueError(\"bad dimensions\")\n",
    "            return Matrix([[sum(self.data[i][k] * other.data[k][j] for k in range(self.n)) \n",
    "                      for j in range(other.n)] for i in range(self.m)])\n",
    "        elif isinstance(other, (int, float)):\n",
    "            return Matrix([[self.data[i][j] * other for j in range(self.n)] for i in range(self.m)])\n",
    "        else:\n",
    "            raise ValueError(\"unsupported operand for matrix multiplication\")\n",
    "        \n",
    "    def __rmul__(self, other : Matrix | float) -> Matrix:\n",
    "        return self * other\n",
    "        \n",
    "    def __sub__(self, other : Matrix) -> Matrix:\n",
    "        return self + other * (-1)\n",
    "    \n",
    "    def __matmul__(self, other : Matrix) -> Matrix:\n",
    "        if isinstance(other, Matrix):\n",
    "            if self.shape() != other.shape():\n",
    "                raise ValueError(\"bad shapes in Hadamard product\")\n",
    "            return Matrix([[self[i, j] * other[i, j] for j in range(self.n)] for i in range(self.m)])\n",
    "        else:\n",
    "            raise ValueError(\"unsupported operand for Hadamard product\")\n",
    "        \n",
    "    def __rmatmul__(self, other : Matrix) -> Matrix:\n",
    "        return self @ other\n",
    "\n",
    "    def __eq__(self, other : Matrix) -> bool:\n",
    "        if not isinstance(other, Matrix):\n",
    "            return False\n",
    "        return self.data == other.data\n",
    "    \n",
    "    def is_square(self) -> bool:\n",
    "        return self.m == self.n\n",
    "    \n",
    "    def minor(self, row, col) -> Matrix:\n",
    "        return Matrix([self.data[i][:col] + self.data[i][col + 1:] for i in range(self.m) if i != row])\n",
    "    \n",
    "    def det(self) -> float:\n",
    "        if not self.is_square():\n",
    "            raise ValueError(\"attempt to get determinant of not square matrix\")\n",
    "        if self.m == 1:\n",
    "            return self.data[0][0]\n",
    "        if self.m == 2:\n",
    "            return self.data[0][0] * self.data[1][1] - self.data[0][1] * self.data[1][0]\n",
    "        det = 0\n",
    "        for c in range(self.m):\n",
    "            det += ((-1) ** c) * self.data[0][c] * self.minor(0, c).det()\n",
    "        return det\n",
    "\n",
    "    def tr(self) -> float:\n",
    "        if not self.is_square():\n",
    "            raise ValueError(\"attempt to get trace of not square matrix\")\n",
    "        trace = 0\n",
    "        for i in range(self.n):\n",
    "            trace += self.data[i][i]\n",
    "        return trace\n",
    "    \n",
    "    def copy(self) -> Matrix:\n",
    "        return Matrix([[item for item in row] for row in self.data])\n",
    "    \n",
    "    def __getitem__(self, index : int | tuple[int, int]) -> float:\n",
    "        if isinstance(index, tuple) and len(index) == 2:\n",
    "            row, col = index\n",
    "            return self.data[row][col]\n",
    "        elif isinstance(index, int):\n",
    "            if self.n != 1:\n",
    "                raise IndexError(\"this indexation method is used for Vectors\")\n",
    "            return self.data[index][0]\n",
    "        else:\n",
    "            raise IndexError(\"invalid matrix index\")\n",
    "    \n",
    "    def __setitem__(self, index : int | tuple[int, int], value : float) -> None:\n",
    "        if isinstance(index, tuple) and len(index) == 2:\n",
    "            row, col = index\n",
    "            self.data[row][col] = value\n",
    "        elif isinstance(index, int):\n",
    "            if self.n != 1:\n",
    "                raise IndexError(\"this indexation method is used for Vectors\")\n",
    "            self.data[index][0] = value\n",
    "        else:\n",
    "            raise IndexError(\"invalid matrix index\")\n",
    "        \n",
    "    def expand(self, f : Vector) -> Matrix:\n",
    "        return Matrix([row + [f[i]] for i, row in enumerate(self.data)])\n",
    "    \n",
    "    def zeros(m : int, n : int) -> Matrix:\n",
    "        return Matrix([[0 for j in range(n)] for i in range(m)])\n",
    "    \n",
    "def det(A : Matrix):\n",
    "    return A.det()\n",
    "\n",
    "def tr(A : Matrix):\n",
    "    return A.tr()\n",
    "\n",
    "class Vector(Matrix):\n",
    "    def __init__(self, data):\n",
    "        super().__init__([[item] for item in data])\n",
    "\n",
    "    def zeros(size : int):\n",
    "        return Vector([0 for i in range(size)])\n",
    "\n",
    "def get_max_norm(A : Matrix):\n",
    "    return max([max([abs(A[i, j]) for i in range(A.m)]) for j in range(A.n)])\n",
    "\n",
    "def get_Manhattan_norm(A : Matrix):\n",
    "    return sum([sum([abs(A[i, j]) for i in range(A.m)]) for j in range(A.n)])\n",
    "\n",
    "def get_Euclidian_norm(A : Matrix):\n",
    "    return sum([sum([A[i, j]*A[i, j] for i in range(A.m)]) for j in range(A.n)]) ** 0.5\n",
    "\n",
    "def get_induced_max_norm(A : Matrix):\n",
    "    return max([sum([abs(A[i, j]) for j in range(A.n)]) for i in range(A.m)])\n",
    "\n",
    "def get_induced_Manhattan_norm(A : Matrix):\n",
    "    return max([sum([abs(A[i, j]) for i in range(A.m)]) for j in range(A.n)])"
   ]
  },
  {
   "cell_type": "markdown",
   "metadata": {},
   "source": [
    "## Matrix and other settings"
   ]
  },
  {
   "cell_type": "code",
   "execution_count": 73,
   "metadata": {},
   "outputs": [
    {
     "name": "stdout",
     "output_type": "stream",
     "text": [
      "|A| = -47\n"
     ]
    }
   ],
   "source": [
    "A = Matrix([[2, 3, -1], [4, 1, 2], [-3, 2, 1]])\n",
    "f = Vector([9, 4, 0])\n",
    "zero_eps = 1e-15    #for zero checking\n",
    "eps = 1e-15         #residual for iterational methods\n",
    "w_SOR = 3/2         #parameter for SOR method\n",
    "\n",
    "print(\"|A| =\", det(A))\n",
    "\n",
    "norm = get_Euclidian_norm\n",
    "\n",
    "def show_result(x : Vector):\n",
    "    print(\"solution: \", x, \"\\nright part:\", A*x, sep=\"\\n\")"
   ]
  },
  {
   "cell_type": "markdown",
   "metadata": {},
   "source": [
    "## Gauss with pivot"
   ]
  },
  {
   "cell_type": "code",
   "execution_count": 74,
   "metadata": {},
   "outputs": [
    {
     "name": "stdout",
     "output_type": "stream",
     "text": [
      "solution: \n",
      "||         1.0         ||\n",
      "||         2.0         ||\n",
      "|| -1.0000000000000002 ||\n",
      "\n",
      "right part:\n",
      "||          9.0           ||\n",
      "||   3.9999999999999996   ||\n",
      "|| -2.220446049250313e-16 ||\n"
     ]
    }
   ],
   "source": [
    "def argmax(iterable) -> int:\n",
    "    max_index = 0\n",
    "    max_item = iterable[0]\n",
    "    for index, item in enumerate(iterable):\n",
    "        if item > max_item:\n",
    "            max_index = index\n",
    "            max_item = item\n",
    "    return max_index\n",
    "\n",
    "def find_solution_by_Gauss(A : Matrix, f : Vector) -> Vector:\n",
    "    Af = A.expand(f)\n",
    "    n = A.n\n",
    "    for j in range(n):\n",
    "        pivot = argmax([abs(Af[k, j]) for k in range(j, n)]) + j\n",
    "        if abs(Af[pivot, j]) < zero_eps:\n",
    "            raise ValueError(\"singular matrix\")\n",
    "        Af.data[pivot], Af.data[j] = Af.data[j], Af.data[pivot]\n",
    "        for i in range(j + 1, n):\n",
    "            factor = Af[i, j] / Af[j, j]\n",
    "            for k in range(j, n + 1):\n",
    "                Af[i, k] -= factor * Af[j, k]\n",
    "    x = Vector.zeros(n)\n",
    "    for i in range(n - 1, -1, -1):\n",
    "        x[i] = (Af[i, n] - sum([Af[i, j] * x[j] for j in range(i + 1, n)])) / Af[i, i]\n",
    "    return x\n",
    "\n",
    "x = find_solution_by_Gauss(A, f)\n",
    "show_result(x)"
   ]
  },
  {
   "cell_type": "markdown",
   "metadata": {},
   "source": [
    "## LU decomposition"
   ]
  },
  {
   "cell_type": "code",
   "execution_count": 75,
   "metadata": {},
   "outputs": [
    {
     "name": "stdout",
     "output_type": "stream",
     "text": [
      "L:\n",
      "||  1    0    0   ||\n",
      "|| 2.0   1    0   ||\n",
      "|| -1.5 -1.3  1   ||\n",
      "\n",
      "U:\n",
      "||  2    3    -1  ||\n",
      "||  0   -5.0 4.0  ||\n",
      "||  0    0   4.7  ||\n",
      "\n",
      "solution: \n",
      "||         1.0         ||\n",
      "||         2.0         ||\n",
      "|| -0.9999999999999998 ||\n",
      "\n",
      "right part:\n",
      "||          9.0          ||\n",
      "||          4.0          ||\n",
      "|| 2.220446049250313e-16 ||\n"
     ]
    }
   ],
   "source": [
    "def get_LU_decomposition(A : Matrix) -> tuple[Matrix, Matrix]:\n",
    "    n = A.n\n",
    "    L = Matrix.zeros(n, n)\n",
    "    U = Matrix.zeros(n, n)\n",
    "    \n",
    "    for i in range(n):\n",
    "        for j in range(i, n):\n",
    "            U[i, j] = A[i, j] - sum(L[i, k] * U[k, j] for k in range(i))\n",
    "        for j in range(i, n):\n",
    "            if i == j:\n",
    "                L[i, i] = 1\n",
    "            else:\n",
    "                L[j, i] = (A[j, i] - sum(L[j, k] * U[k, i] for k in range(i))) / U[i, i]\n",
    "    return L, U\n",
    "\n",
    "def find_solution_by_LU(A : Matrix, f : Vector) -> Vector:\n",
    "    n = A.n\n",
    "    L, U = get_LU_decomposition(A)\n",
    "    x = Vector.zeros(n)\n",
    "    y = Vector.zeros(n)\n",
    "    for i in range(n):\n",
    "        y[i] = (f[i] - sum([L[i, j] * y[j] for j in range(i)]))\n",
    "    for i in range(n-1, -1, -1):\n",
    "        x[i] = (y[i] - sum([U[i, j] * x[j] for j in range(i + 1, n)])) / U[i, i]\n",
    "    return x\n",
    "\n",
    "L, U = get_LU_decomposition(A)\n",
    "print(\"L:\", L, \"\\nU:\", U, sep=\"\\n\")\n",
    "print()\n",
    "x = find_solution_by_LU(A, f)\n",
    "show_result(x)"
   ]
  },
  {
   "cell_type": "markdown",
   "metadata": {},
   "source": [
    "## Jacobi"
   ]
  },
  {
   "cell_type": "code",
   "execution_count": 76,
   "metadata": {},
   "outputs": [
    {
     "name": "stdout",
     "output_type": "stream",
     "text": [
      "solution: \n",
      "|| inf  ||\n",
      "|| -inf ||\n",
      "|| inf  ||\n",
      "\n",
      "right part:\n",
      "|| nan ||\n",
      "|| nan ||\n",
      "|| nan ||\n"
     ]
    }
   ],
   "source": [
    "def find_solution_by_Jacobi(A : Matrix, f : Vector, x0 : Vector) -> Vector:\n",
    "    n = A.shape()[0]\n",
    "    x = x0.copy()\n",
    "    x_dual = Vector.zeros(n)\n",
    "    while norm(A * x - f) > eps:\n",
    "        for i in range(n):\n",
    "            x_dual[i] = (-sum([A[i, j] * x[j] for j in range(n) if i != j]) + f[i]) / A[i, i]\n",
    "        x, x_dual = x_dual, x\n",
    "    return x\n",
    "\n",
    "x = find_solution_by_Jacobi(A, f, Vector.zeros(A.n))\n",
    "show_result(x)"
   ]
  },
  {
   "cell_type": "markdown",
   "metadata": {},
   "source": [
    "## Seidel"
   ]
  },
  {
   "cell_type": "code",
   "execution_count": 77,
   "metadata": {},
   "outputs": [
    {
     "name": "stdout",
     "output_type": "stream",
     "text": [
      "solution: \n",
      "|| 1.0  ||\n",
      "|| 2.0  ||\n",
      "|| -1.0 ||\n",
      "\n",
      "right part:\n",
      "|| 9.0 ||\n",
      "|| 4.0 ||\n",
      "|| 0.0 ||\n"
     ]
    }
   ],
   "source": [
    "def find_solution_by_Seidel(A : Matrix, f : Vector, x0 : Vector) -> Vector:\n",
    "    f = A.T() * f\n",
    "    A = A.T() * A\n",
    "    n = A.n\n",
    "    x = x0.copy()\n",
    "    x_dual = Vector.zeros(n)\n",
    "    while norm(A * x - f) > eps:\n",
    "        for i in range(n):\n",
    "            x_dual[i] = -(sum([A[i, j] * x_dual[j] for j in range(i) if i != j]) \n",
    "                          + sum([A[i, j] * x[j] for j in range(i+1, n) if i != j]) \n",
    "                          - f[i]) / A[i, i]\n",
    "        x, x_dual = x_dual, x\n",
    "    return x\n",
    "\n",
    "x = find_solution_by_Seidel(A, f, Vector.zeros(A.n))\n",
    "show_result(x)"
   ]
  },
  {
   "cell_type": "markdown",
   "metadata": {},
   "source": [
    "## successive over-relaxation"
   ]
  },
  {
   "cell_type": "code",
   "execution_count": 78,
   "metadata": {},
   "outputs": [
    {
     "name": "stdout",
     "output_type": "stream",
     "text": [
      "solution: \n",
      "|| 1.0  ||\n",
      "|| 2.0  ||\n",
      "|| -1.0 ||\n",
      "\n",
      "right part:\n",
      "|| 9.0 ||\n",
      "|| 4.0 ||\n",
      "|| 0.0 ||\n"
     ]
    }
   ],
   "source": [
    "def find_solution_by_SOR(A : Matrix, f : Vector, x0 : Vector) -> Vector:\n",
    "    f = A.T() * f\n",
    "    A = A.T() * A\n",
    "    n = A.n\n",
    "    x = x0.copy()\n",
    "    x_dual = Vector.zeros(n)\n",
    "    while norm(A * x - f) > eps:\n",
    "        for i in range(n):\n",
    "            x_dual[i] = (1 - w_SOR) * x[i] - w_SOR * (sum([A[i, j] * x_dual[j] for j in range(i) if i != j]) \n",
    "                          + sum([A[i, j] * x[j] for j in range(i+1, n) if i != j]) - f[i]) / A[i, i]\n",
    "        x, x_dual = x_dual, x\n",
    "    return x\n",
    "\n",
    "x = find_solution_by_SOR(A, f, Vector.zeros(A.n))\n",
    "show_result(x)"
   ]
  },
  {
   "cell_type": "markdown",
   "metadata": {},
   "source": [
    "## gradient descent"
   ]
  },
  {
   "cell_type": "code",
   "execution_count": 79,
   "metadata": {},
   "outputs": [
    {
     "name": "stdout",
     "output_type": "stream",
     "text": [
      "solution: \n",
      "|| 0.9999999999999999 ||\n",
      "||        2.0         ||\n",
      "||        -1.0        ||\n",
      "\n",
      "right part:\n",
      "||          9.0          ||\n",
      "||  3.9999999999999996   ||\n",
      "|| 4.440892098500626e-16 ||\n"
     ]
    }
   ],
   "source": [
    "def find_solution_by_gradient_descent(A : Matrix, f : Vector, x0 : Vector) -> Vector:\n",
    "    f = A.T() * f\n",
    "    A = A.T() * A\n",
    "    x = x0\n",
    "    residual = A * x - f\n",
    "    while norm(residual) > eps:\n",
    "        tau = (residual.T() * residual)[0] / ((A * residual).T() * residual)[0]\n",
    "        x -= tau * residual\n",
    "        residual = A * x - f\n",
    "    return x\n",
    "\n",
    "x = find_solution_by_gradient_descent(A, f, Vector.zeros(A.n))\n",
    "show_result(x)"
   ]
  },
  {
   "cell_type": "markdown",
   "metadata": {},
   "source": [
    "## minimal residual method"
   ]
  },
  {
   "cell_type": "code",
   "execution_count": 80,
   "metadata": {},
   "outputs": [
    {
     "name": "stdout",
     "output_type": "stream",
     "text": [
      "solution: \n",
      "|| 1.0  ||\n",
      "|| 2.0  ||\n",
      "|| -1.0 ||\n",
      "\n",
      "right part:\n",
      "|| 9.0 ||\n",
      "|| 4.0 ||\n",
      "|| 0.0 ||\n"
     ]
    }
   ],
   "source": [
    "def find_solution_by_minimal_residual(A : Matrix, f : Vector, x0 : Vector) -> Vector:\n",
    "    f = A.T() * f\n",
    "    A = A.T() * A\n",
    "    x = x0\n",
    "    residual = A * x - f\n",
    "    while norm(residual) > eps:\n",
    "        Ar = A * residual\n",
    "        tau = (Ar.T() * residual)[0] / (Ar.T() * Ar)[0]\n",
    "        x -= tau * residual\n",
    "        residual = A * x - f\n",
    "    return x\n",
    "\n",
    "x = find_solution_by_minimal_residual(A, f, Vector.zeros(A.n))\n",
    "show_result(x)"
   ]
  },
  {
   "cell_type": "markdown",
   "metadata": {},
   "source": [
    "## BiCGStab"
   ]
  },
  {
   "cell_type": "code",
   "execution_count": 81,
   "metadata": {},
   "outputs": [
    {
     "name": "stdout",
     "output_type": "stream",
     "text": [
      "solution: \n",
      "|| 0 ||\n",
      "|| 0 ||\n",
      "|| 0 ||\n",
      "\n",
      "right part:\n",
      "|| 0 ||\n",
      "|| 0 ||\n",
      "|| 0 ||\n"
     ]
    }
   ],
   "source": [
    "def find_solution_by_BiCGStab(A : Matrix, f : Vector, x0 : Vector) -> Vector:\n",
    "    f = A.T() * f\n",
    "    A = A.T() * A\n",
    "    x = x0\n",
    "    return x\n",
    "\n",
    "x = find_solution_by_BiCGStab(A, f, Vector.zeros(A.n))\n",
    "show_result(x)"
   ]
  }
 ],
 "metadata": {
  "kernelspec": {
   "display_name": "Python 3",
   "language": "python",
   "name": "python3"
  },
  "language_info": {
   "codemirror_mode": {
    "name": "ipython",
    "version": 3
   },
   "file_extension": ".py",
   "mimetype": "text/x-python",
   "name": "python",
   "nbconvert_exporter": "python",
   "pygments_lexer": "ipython3",
   "version": "3.12.2"
  }
 },
 "nbformat": 4,
 "nbformat_minor": 2
}
