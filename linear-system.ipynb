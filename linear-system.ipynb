{
 "cells": [
  {
   "cell_type": "code",
   "execution_count": 177,
   "metadata": {},
   "outputs": [],
   "source": [
    "class Matrix:\n",
    "    pass\n",
    "class Vector:\n",
    "    pass\n",
    "\n",
    "class Matrix:\n",
    "    def __init__(self, data):\n",
    "        self.data = data\n",
    "        self.m = len(data)          #rows\n",
    "        self.n = len(data[0])       #cols\n",
    "\n",
    "    def shape(self):\n",
    "        return self.m, self.n\n",
    "    \n",
    "    def T(self):\n",
    "        return Matrix([[self.data[j][i] for j in range(self.m)] for i in range(self.n)])\n",
    "\n",
    "    def __str__(self):\n",
    "        return '\\n'.join([\"|| \" + (\" \".join(map(str, row))) + \" ||\" for row in self.data])\n",
    "\n",
    "    def __repr__(self):\n",
    "        return f\"Matrix({self.m}x{self.n})\"\n",
    "\n",
    "    def __add__(self, other : Matrix) -> Matrix:\n",
    "        if isinstance(other, Matrix) and self.shape() == other.shape():\n",
    "            return Matrix([[self.data[i][j] + other.data[i][j] for j in range(self.n)] for i in range(self.m)])\n",
    "        else:\n",
    "            raise ValueError(\"matrix add/sub error\")\n",
    "        \n",
    "    def __mul__(self, other : Matrix | float) -> Matrix:\n",
    "        if isinstance(other, Matrix):\n",
    "            if self.n != other.m:\n",
    "                raise ValueError(\"bad dimensions\")\n",
    "            return Matrix([[sum(self.data[i][k] * other.data[k][j] for k in range(self.n)) \n",
    "                      for j in range(other.n)] for i in range(self.m)])\n",
    "        elif isinstance(other, (int, float)):\n",
    "            return Matrix([[self.data[i][j] * other for j in range(self.n)] for i in range(self.m)])\n",
    "        else:\n",
    "            raise ValueError(\"unsupported operand for matrix multiplication\")\n",
    "        \n",
    "    def __rmul__(self, other : Matrix | float) -> Matrix:\n",
    "        return self * other\n",
    "        \n",
    "    def __sub__(self, other : Matrix) -> Matrix:\n",
    "        return self + other * (-1)\n",
    "    \n",
    "    def __eq__(self, other : Matrix) -> bool:\n",
    "        if not isinstance(other, Matrix):\n",
    "            return False\n",
    "        return self.data == other.data\n",
    "    \n",
    "    def is_square(self) -> bool:\n",
    "        return self.m == self.n\n",
    "    \n",
    "    def minor(self, row, col) -> Matrix:\n",
    "        return Matrix([self.data[i][:col] + self.data[i][col + 1:] for i in range(self.m) if i != row])\n",
    "    \n",
    "    def det(self) -> float:\n",
    "        if not self.is_square():\n",
    "            raise ValueError(\"attempt to get determinant of not square matrix\")\n",
    "        if self.m == 1:\n",
    "            return self.data[0][0]\n",
    "        if self.m == 2:\n",
    "            return self.data[0][0] * self.data[1][1] - self.data[0][1] * self.data[1][0]\n",
    "        det = 0\n",
    "        for c in range(self.m):\n",
    "            det += ((-1) ** c) * self.data[0][c] * self.minor(0, c).det()\n",
    "        return det\n",
    "\n",
    "    def tr(self) -> float:\n",
    "        if not self.is_square():\n",
    "            raise ValueError(\"attempt to get trace of not square matrix\")\n",
    "        trace = 0\n",
    "        for i in range(self.n):\n",
    "            trace += self.data[i][i]\n",
    "        return trace\n",
    "    \n",
    "    def copy(self) -> Matrix:\n",
    "        if isinstance(self, Vector):\n",
    "            return Vector([item[0] for item in self.data])\n",
    "        return Matrix([[item for item in row] for row in self.data])\n",
    "    \n",
    "    def __getitem__(self, index : int | tuple[int, int]) -> float:\n",
    "        if isinstance(index, tuple) and len(index) == 2:\n",
    "            row, col = index\n",
    "            return self.data[row][col]\n",
    "        elif isinstance(index, int):\n",
    "            return self.data[index]\n",
    "        else:\n",
    "            raise IndexError(\"invalid matrix index\")\n",
    "    \n",
    "    def __setitem__(self, index : int | tuple[int, int], value : float) -> None:\n",
    "        if isinstance(index, tuple) and len(index) == 2:\n",
    "            row, col = index\n",
    "            self.data[row][col] = value\n",
    "        elif isinstance(index, int):\n",
    "            if len(value) != self.n:\n",
    "                raise ValueError(\"invalid row size\")\n",
    "            self.data[index] = value\n",
    "        else:\n",
    "            raise IndexError(\"invalid matrix index\")\n",
    "    \n",
    "def det(A : Matrix):\n",
    "    return A.det()\n",
    "\n",
    "def tr(A : Matrix):\n",
    "    return A.tr()\n",
    "\n",
    "class Vector(Matrix):\n",
    "    def __init__(self, data):\n",
    "        super().__init__([[item] for item in data])\n",
    "    \n",
    "    def __getitem__(self, index : int) -> float:\n",
    "        return super().__getitem__((index, 0))\n",
    "    \n",
    "    def __setitem__(self, index : int, value : float) -> None:\n",
    "        super().__setitem__((index, 0), value)\n",
    "\n",
    "    def zero(size : int):\n",
    "        return Vector([0 for i in range(size)])\n",
    "\n",
    "def get_n1(A : Matrix):\n",
    "    result = 0\n",
    "    for i in range(A.m):\n",
    "        for j in range(A.n):\n",
    "            result += abs(A[i, j])\n",
    "    return result"
   ]
  },
  {
   "cell_type": "markdown",
   "metadata": {},
   "source": [
    "## Matrix and other settings"
   ]
  },
  {
   "cell_type": "code",
   "execution_count": 178,
   "metadata": {},
   "outputs": [
    {
     "name": "stdout",
     "output_type": "stream",
     "text": [
      "-47\n"
     ]
    }
   ],
   "source": [
    "A = Matrix([[2, 3, -1], [4, 1, 2], [-3, 2, 1]])\n",
    "f = Vector([9, 4, 0])\n",
    "eps = 1e-15 #residual for iterational methods\n",
    "\n",
    "print(det(A))"
   ]
  },
  {
   "cell_type": "markdown",
   "metadata": {},
   "source": [
    "## Jacobi"
   ]
  },
  {
   "cell_type": "code",
   "execution_count": 179,
   "metadata": {},
   "outputs": [
    {
     "name": "stdout",
     "output_type": "stream",
     "text": [
      "|| inf ||\n",
      "|| -inf ||\n",
      "|| inf ||\n"
     ]
    }
   ],
   "source": [
    "def find_solution_by_Jacobi(A : Matrix, f : Vector, x0 : Vector) -> float:\n",
    "    n = A.shape()[0]\n",
    "    x = x0.copy()\n",
    "    x_dual = Vector.zero(n)\n",
    "    while get_n1(A * x - f) > eps:\n",
    "        for i in range(n):\n",
    "            x_dual[i] = (-sum([A[i, j] * x[j] for j in range(n) if i != j]) + f[i]) / A[i, i]\n",
    "        x, x_dual = x_dual, x\n",
    "    return x\n",
    "\n",
    "print(find_solution_by_Jacobi(A, f, Vector.zero(3)))"
   ]
  },
  {
   "cell_type": "markdown",
   "metadata": {},
   "source": [
    "## Seidel"
   ]
  },
  {
   "cell_type": "code",
   "execution_count": 180,
   "metadata": {},
   "outputs": [
    {
     "name": "stdout",
     "output_type": "stream",
     "text": [
      "|| 1.0 ||\n",
      "|| 2.0 ||\n",
      "|| -1.0 ||\n",
      "---\n",
      "|| 9.0 ||\n",
      "|| 4.0 ||\n",
      "|| 0.0 ||\n"
     ]
    }
   ],
   "source": [
    "def find_solution_by_Seidel(A : Matrix, f : Vector, x0 : Vector) -> float:\n",
    "    f = Vector([item[0] for item in (A.T() * f).data])\n",
    "    A = A.T() * A\n",
    "    n = A.shape()[0]\n",
    "    x = x0.copy()\n",
    "    x_dual = Vector.zero(n)\n",
    "    while get_n1(A * x - f) > eps:\n",
    "        for i in range(n):\n",
    "            x_dual[i] = -(sum([A[i, j] * x_dual[j] for j in range(i) if i != j]) \n",
    "                          + sum([A[i, j] * x[j] for j in range(i+1, n) if i != j]) \n",
    "                          - f[i]) / A[i, i]\n",
    "        x, x_dual = x_dual, x\n",
    "    return x\n",
    "\n",
    "x = find_solution_by_Seidel(A, f, Vector([0, 0, 0]))\n",
    "print(x, \"\\n---\\n\", A*x, sep=\"\")"
   ]
  },
  {
   "cell_type": "code",
   "execution_count": null,
   "metadata": {},
   "outputs": [],
   "source": [
    "\n"
   ]
  }
 ],
 "metadata": {
  "kernelspec": {
   "display_name": "Python 3",
   "language": "python",
   "name": "python3"
  },
  "language_info": {
   "codemirror_mode": {
    "name": "ipython",
    "version": 3
   },
   "file_extension": ".py",
   "mimetype": "text/x-python",
   "name": "python",
   "nbconvert_exporter": "python",
   "pygments_lexer": "ipython3",
   "version": "3.12.2"
  }
 },
 "nbformat": 4,
 "nbformat_minor": 2
}
